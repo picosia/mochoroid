{
 "cells": [
  {
   "cell_type": "code",
   "execution_count": 1,
   "metadata": {
    "collapsed": true
   },
   "outputs": [],
   "source": [
    "# -*- coding: utf-8 -*-\n",
    "\n",
    "import matplotlib.pyplot as plt\n",
    "import numpy as np\n",
    "import os\n",
    "import librosa\n",
    "import scipy.fftpack\n",
    "import scipy.interpolate\n",
    "\n",
    "import time"
   ]
  },
  {
   "cell_type": "code",
   "execution_count": 2,
   "metadata": {
    "collapsed": true
   },
   "outputs": [],
   "source": [
    "import types\n",
    "def print_varsize():\n",
    "    #ファイル容量とか\n",
    "    print(\"{}{: >15}{}{: >10}{}\".format('|','Variable Name','|','  Size','|'))\n",
    "    print(\" -------------------------- \")\n",
    "    for k, v in globals().items():\n",
    "        if hasattr(v, 'size') and not k.startswith('_') and not isinstance(v,types.ModuleType):\n",
    "            print(\"{}{: >15}{}{: >10}{}\".format('|',k,'|',str(v.size),'|'))\n",
    "        elif hasattr(v, '__len__') and not k.startswith('_') and not isinstance(v,types.ModuleType):\n",
    "            print(\"{}{: >15}{}{: >10}{}\".format('|',k,'|',str(len(v)),'|'))"
   ]
  },
  {
   "cell_type": "code",
   "execution_count": 3,
   "metadata": {
    "collapsed": true
   },
   "outputs": [],
   "source": [
    "def loadWavefile(filename,rate=44100,mono=True):\n",
    "    #wavファイル読み込み\n",
    "    if not os.path.exists(filename):\n",
    "        print('wav data is nothing')\n",
    "        print('o・∇・o')\n",
    "    y,sr = librosa.load(filename,sr=rate,mono=mono)\n",
    "    return y,sr\n",
    "\n",
    "def outputWavefile(filepath,y,rate=44100,overwrite=False):\n",
    "    #wavファイル出力\n",
    "    if overwrite:\n",
    "        os.remove(filepath)\n",
    "        librosa.output.write_wav(filepath,y,rate)\n",
    "    elif os.path.exists(filepath):\n",
    "        print('wav data is already there')\n",
    "        print('o・∇・o')\n",
    "    else:\n",
    "        librosa.output.write_wav(filepath,y,rate)"
   ]
  },
  {
   "cell_type": "code",
   "execution_count": 4,
   "metadata": {
    "collapsed": true
   },
   "outputs": [],
   "source": [
    "def preEmphasis(wave,a=0.97):\n",
    "    #Pre-Emphasis filter\n",
    "    emphasized_wave = np.append(wave[0], wave[1:] - a * wave[:-1])\n",
    "    return emphasized_wave"
   ]
  },
  {
   "cell_type": "code",
   "execution_count": 5,
   "metadata": {
    "collapsed": true
   },
   "outputs": [],
   "source": [
    "def hammingWindow(wave,alpha=0.54):\n",
    "    #Hamming window\n",
    "    nmax = len(wave)\n",
    "    n = np.linspace(0,nmax-1,nmax)\n",
    "    wx = alpha-((1-alpha)*np.cos(2.0*np.pi*n/nmax))\n",
    "    hamming_wave = wx * wave\n",
    "    return hamming_wave\n",
    "\n",
    "def hammingWindow_matrix(wave_matrix,alpha=0.54):\n",
    "    #Hamming window for matrix\n",
    "    nmax = len(wave_matrix[0])\n",
    "    n = np.linspace(0,nmax-1,nmax)\n",
    "    wx = alpha-((1-alpha)*np.cos(2.0*np.pi*n/nmax))\n",
    "    hamming_wave_matrix = wave_matrix * wx\n",
    "    return hamming_wave_matrix"
   ]
  },
  {
   "cell_type": "code",
   "execution_count": 6,
   "metadata": {
    "collapsed": true
   },
   "outputs": [],
   "source": [
    "def framing(wave,frame_size=1024,no_voice_cut=False,threshold=0):\n",
    "    #frame distribution device\n",
    "    frame_stride = int(frame_size/2)\n",
    "    wavedata_length = len(wave)\n",
    "    frame_number = int(wavedata_length/frame_stride) - 1\n",
    "    s_list = [frame_stride*n for n in range(frame_number)]\n",
    "    e_list = [frame_stride*n+frame_size for n in range(frame_number)]\n",
    "    \n",
    "    wave_framing = np.empty((frame_number,frame_size))\n",
    "    no_soundless = []\n",
    "    for i,(s,e) in enumerate(zip(s_list,e_list)):\n",
    "        wave_frame = wave[s:e]\n",
    "        wave_framing[i] = wave_frame\n",
    "        if no_voice_cut:\n",
    "            if np.max(np.abs(wave_frame)) > threshold:\n",
    "                no_soundless.append(i)\n",
    "    #無音(微音)部分のカット            \n",
    "    if no_voice_cut:\n",
    "        wave_framing = wave_framing[no_soundless]\n",
    "        \n",
    "    return wave_framing"
   ]
  },
  {
   "cell_type": "code",
   "execution_count": 7,
   "metadata": {
    "collapsed": true
   },
   "outputs": [],
   "source": [
    "def clear_framing(frame,frame_size=1024):\n",
    "    #フレームに分割していたデータの統合\n",
    "    frame_number = len(frame)\n",
    "    frame_stride = int(frame_size/2)\n",
    "    s_list = [frame_stride*n for n in range(frame_number)]\n",
    "    e_list = [frame_stride*n+frame_size for n in range(frame_number)]\n",
    "    no_frame = np.empty(frame_size+(frame_stride*(frame_number-1)))\n",
    "    for i,(s,e) in enumerate(zip(s_list,e_list)):\n",
    "        no_frame[s:e] += frame[i]\n",
    "    return no_frame.astype(np.float32)"
   ]
  },
  {
   "cell_type": "code",
   "execution_count": 8,
   "metadata": {
    "collapsed": true
   },
   "outputs": [],
   "source": [
    "def hz2mel(Hz):\n",
    "    #Hz to mel\n",
    "    mel = 1127.01048 * np.log(Hz / 700.0 + 1.0)\n",
    "    return mel\n",
    "\n",
    "def mel2hz(mel):\n",
    "    #mel to Hz\n",
    "    Hz = 700.0 * (np.exp(mel / 1127.01048) - 1.0)\n",
    "    return Hz"
   ]
  },
  {
   "cell_type": "code",
   "execution_count": 9,
   "metadata": {
    "collapsed": true
   },
   "outputs": [],
   "source": [
    "def melFilterBank(fs, nfft, numChannels, index_only=False):\n",
    "    #メルフィルタバンクを作成\n",
    "    # ナイキスト周波数\n",
    "    fmax = fs / 2\n",
    "    melmax = hz2mel(fmax)\n",
    "    # 周波数インデックスの最大数\n",
    "    nmax = int(nfft / 2)\n",
    "    # 周波数分解能\n",
    "    df = fs / nfft\n",
    "    # 各フィルタの中心周波数(mel)\n",
    "    dmel = melmax / (numChannels + 1)\n",
    "    melcenters = np.arange(1, numChannels + 1) * dmel\n",
    "    # 各フィルタの中心周波数をHzに変換\n",
    "    fcenters = mel2hz(melcenters)\n",
    "    # 各フィルタの周波数を周波数インデックスに変換\n",
    "    indexcenter = np.round(fcenters / df)\n",
    "    indexstart = np.hstack(([0], indexcenter[0:numChannels - 1]))\n",
    "    indexstop = np.hstack((indexcenter[1:numChannels], [nmax]))\n",
    "    \n",
    "    indexcenter = np.array(indexcenter,dtype='int32')\n",
    "    indexstart = np.array(indexstart,dtype='int32')\n",
    "    indexstop = np.array(indexstop,dtype='int32')\n",
    "\n",
    "    if index_only:\n",
    "        return melcenters,melmax\n",
    "    \n",
    "    filterbank = np.zeros((numChannels, nmax))\n",
    "    for c in np.arange(0, numChannels):\n",
    "        increment= 1.0 / (indexcenter[c] - indexstart[c])\n",
    "        for i in np.arange(indexstart[c], indexcenter[c]):\n",
    "            filterbank[c, i] = (i - indexstart[c]) * increment\n",
    "        decrement = 1.0 / (indexstop[c] - indexcenter[c])\n",
    "        for i in np.arange(indexcenter[c], indexstop[c]):\n",
    "            filterbank[c, i] = 1.0 - ((i - indexcenter[c]) * decrement)\n",
    "\n",
    "    return filterbank, fcenters"
   ]
  },
  {
   "cell_type": "code",
   "execution_count": 17,
   "metadata": {
    "collapsed": true
   },
   "outputs": [],
   "source": [
    "def calcMFCC(wave,sr,no_voice_cut=True,frame_size=1024,numChannels=20,dimension=16):\n",
    "    \n",
    "    #waveデータを分割\n",
    "    wave_frame = framing(wave,no_voice_cut=no_voice_cut,threshold=0.005)\n",
    "    #ハミング窓\n",
    "    wave_hw = hammingWindow_matrix(wave_frame)\n",
    "    del wave_frame\n",
    "    #FFT\n",
    "    wave_fft = np.fft.fft(wave_hw)\n",
    "    del wave_hw\n",
    "    NFFT = int(frame_size)\n",
    "    wave_fft_scale = np.fft.fftfreq(NFFT,d=1.0)[:NFFT//2]\n",
    "    wave_fft_amp = np.abs(wave_fft[:,:NFFT//2])\n",
    "    \n",
    "    #メルフィルタバンク\n",
    "    filterbank, fcenters = melFilterBank(sr, NFFT, numChannels)    \n",
    "    mspectrum = np.log10(np.dot(wave_fft_amp, filterbank.T))\n",
    "    mfcc = scipy.fftpack.dct(mspectrum, norm = 'ortho')\n",
    "    \n",
    "    return mfcc,fcenters"
   ]
  },
  {
   "cell_type": "code",
   "execution_count": 11,
   "metadata": {
    "collapsed": true
   },
   "outputs": [],
   "source": [
    "def iMFCC(mfcc,fcenters,NFFT=1024,fs=44100):\n",
    "    #MFCCからスペクトラム包絡の逆算\n",
    "    mspectrum = scipy.fftpack.idct(mfcc, norm = 'ortho')\n",
    "    spectrum = np.empty((len(mfcc),NFFT//2))\n",
    "    for i in range(len(mfcc)):\n",
    "        tck = scipy.interpolate.splrep(fcenters, np.power(10, mspectrum[i]))\n",
    "        fscale = np.fft.fftfreq(NFFT, d = 1.0 / fs)[:NFFT//2]\n",
    "        spectrum[i] = scipy.interpolate.splev(fscale, tck)\n",
    "        spectrum[i] = np.maximum(np.zeros(spectrum[i].shape),spectrum[i])\n",
    "        spectrum[i][np.isnan(spectrum[i])] = 0\n",
    "    return spectrum"
   ]
  },
  {
   "cell_type": "code",
   "execution_count": 12,
   "metadata": {
    "collapsed": true
   },
   "outputs": [],
   "source": [
    "def makeMFCCFilter(mfcc_factor, sr=44100, NFFT=1024):\n",
    "    numChannels = len(mfcc_factor)\n",
    "    center, melmax = melFilterBank(44100, nfft=NFFT, numChannels=numChannels, index_only=True)\n",
    "    df = int(melmax/(numChannels+1))\n",
    "    mel_factor = np.zeros(int(melmax+2*df))\n",
    "    sigma = int(df/1.6)\n",
    "    for i,center_section in enumerate(center):\n",
    "        line = np.linspace(0,df*4-1,df*4)\n",
    "        gaussian = (1/1.561178)*mfcc_factor[i]*np.exp(-1*((line-df*2)**2)/(2*sigma**2))\n",
    "        mel_factor[df*(i):df*(i+4)] += gaussian\n",
    "    mel_factor = mel_factor[df:]\n",
    "\n",
    "    gaussian_hz = np.empty(NFFT//2)\n",
    "    for i in range(NFFT//2):\n",
    "        hz = 1.0*sr/NFFT*i\n",
    "        mel = int(hz2mel(hz))\n",
    "        gaussian_hz[i] = mel_factor[mel]\n",
    "\n",
    "    gaussian_hz_2 = gaussian_hz[1:]\n",
    "    gaussian_hz = np.hstack((gaussian_hz, np.array([1]), gaussian_hz_2[::-1]))\n",
    "    \n",
    "    return gaussian_hz"
   ]
  },
  {
   "cell_type": "code",
   "execution_count": 119,
   "metadata": {},
   "outputs": [],
   "source": [
    "def change_voice(wave,sr,no_voice_cut=False,frame_size=1024,numChannels=20):\n",
    "    #calcMFCCと重複、あとでなんとかする\n",
    "    \n",
    "    #waveデータを分割\n",
    "    wave_frame = framing(wave,no_voice_cut=no_voice_cut,threshold=0.005)\n",
    "    #ハミング窓\n",
    "    wave_hw = hammingWindow_matrix(wave_frame) \n",
    "    del wave_frame\n",
    "    #FFT\n",
    "    wave_fft = np.fft.fft(wave_hw)\n",
    "    del wave_hw\n",
    "    NFFT = frame_size\n",
    "    #wave_fft_scale = np.fft.fftfreq(NFFT,d=1.0)[:NFFT/2]\n",
    "    wave_fft_amp = np.abs(wave_fft[:,:NFFT//2])\n",
    "    \n",
    "    plt.plot(wave_fft_amp[3])\n",
    "    plt.show()\n",
    "    \n",
    "    #メルフィルタバンク\n",
    "    filterbank, fcenters = melFilterBank(sr, NFFT, numChannels)    \n",
    "    mspectrum = np.log10(np.dot(wave_fft_amp, filterbank.T))\n",
    "    mfcc = scipy.fftpack.dct(mspectrum, norm = 'ortho')\n",
    "    \n",
    "    #変声\n",
    "    mfcc_changer = mfcc\n",
    "    \n",
    "    #IFFT\n",
    "    spectrum = iMFCC(mfcc_changer,fcenters)\n",
    "    spectrum_rebirth = np.fliplr(spectrum)\n",
    "    spectrum_rebirth = np.delete(spectrum_rebirth,-1,1)\n",
    "    spectrum = np.hstack((spectrum,np.zeros((len(spectrum),1)),spectrum_rebirth))\n",
    "    \n",
    "    plt.plot(spectrum[3,:NFFT//2])\n",
    "    plt.show()\n",
    "    \n",
    "    wave_ifft = np.fft.ifft(spectrum)\n",
    "    wave_ifft = wave_ifft.real\n",
    "    wave_after = clear_framing(wave_ifft)\n",
    "    \n",
    "    return wave_after"
   ]
  },
  {
   "cell_type": "code",
   "execution_count": 128,
   "metadata": {},
   "outputs": [
    {
     "name": "stdout",
     "output_type": "stream",
     "text": [
      "218250\n",
      "[ 0.  0.  0. ...,  0.  0.  0.]\n"
     ]
    }
   ],
   "source": [
    "#data = np.linspace(0,10000,44100*120)\n",
    "#data = np.cos(data*15)+np.sin(data*22)\n",
    "\n",
    "data,sr = loadWavefile(\"../data/LearningData/magiarecord/1/1080.wav\")\n",
    "#data,sr = np.loadtxt(\"1080.csv\",delimiter=\",\"),44100\n",
    "\n",
    "#data,sr = loadWavefile(\"../data/LearningData/magiarecord/1/3.wav\")\n",
    "print(len(data))\n",
    "print(data)"
   ]
  },
  {
   "cell_type": "code",
   "execution_count": 126,
   "metadata": {
    "scrolled": true
   },
   "outputs": [
    {
     "name": "stdout",
     "output_type": "stream",
     "text": [
      "2297\n"
     ]
    }
   ],
   "source": [
    "mfcc,fcenters = calcMFCC(data,sr,no_voice_cut=True,numChannels=64)\n",
    "print(len(mfcc))"
   ]
  },
  {
   "cell_type": "code",
   "execution_count": 132,
   "metadata": {
    "scrolled": false
   },
   "outputs": [
    {
     "data": {
      "image/png": "[encoded data removed]",
      "text/plain": [
       "<matplotlib.figure.Figure at 0xdb897d0>"
      ]
     },
     "metadata": {},
     "output_type": "display_data"
    },
    {
     "name": "stderr",
     "output_type": "stream",
     "text": [
      "C:\\Users\\sho\\Anaconda3\\lib\\site-packages\\ipykernel_launcher.py:21: RuntimeWarning: divide by zero encountered in log10\n",
      "C:\\Users\\sho\\Anaconda3\\lib\\site-packages\\ipykernel_launcher.py:9: RuntimeWarning: invalid value encountered in maximum\n",
      "  if __name__ == '__main__':\n"
     ]
    },
    {
     "data": {
      "image/png": "[encoded data removed]",
      "text/plain": [
       "<matplotlib.figure.Figure at 0xf5a6e90>"
      ]
     },
     "metadata": {},
     "output_type": "display_data"
    }
   ],
   "source": [
    "wave_after = change_voice(data,sr,no_voice_cut=False,numChannels=64)\n",
    "outputWavefile(\"../data/mocho.wav\",wave_after,overwrite=True)"
   ]
  },
  {
   "cell_type": "code",
   "execution_count": 137,
   "metadata": {},
   "outputs": [
    {
     "data": {
      "image/png": "[encoded data removed]",
      "text/plain": [
       "<matplotlib.figure.Figure at 0x100f6230>"
      ]
     },
     "metadata": {},
     "output_type": "display_data"
    },
    {
     "data": {
      "image/png": "[encoded data removed]",
      "text/plain": [
       "<matplotlib.figure.Figure at 0xf769530>"
      ]
     },
     "metadata": {},
     "output_type": "display_data"
    }
   ],
   "source": [
    "plt.plot(wave_after)\n",
    "#plt.xlim(160000,161000)\n",
    "plt.show()\n",
    "plt.plot(data)\n",
    "#plt.xlim(160000,161000)\n",
    "plt.show()"
   ]
  }
 ],
 "metadata": {
  "kernelspec": {
   "display_name": "Python 3",
   "language": "python",
   "name": "python3"
  },
  "language_info": {
   "codemirror_mode": {
    "name": "ipython",
    "version": 3
   },
   "file_extension": ".py",
   "mimetype": "text/x-python",
   "name": "python",
   "nbconvert_exporter": "python",
   "pygments_lexer": "ipython3",
   "version": "3.6.3"
  }
 },
 "nbformat": 4,
 "nbformat_minor": 2
}
