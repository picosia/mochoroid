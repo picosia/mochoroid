{
 "cells": [
  {
   "cell_type": "code",
   "execution_count": 1,
   "metadata": {
    "collapsed": true
   },
   "outputs": [],
   "source": [
    "# -*- coding: utf-8 -*-\n",
    "\n",
    "import matplotlib.pyplot as plt\n",
    "import numpy as np\n",
    "import os\n",
    "import librosa\n",
    "\n",
    "import time"
   ]
  },
  {
   "cell_type": "code",
   "execution_count": 2,
   "metadata": {
    "collapsed": true
   },
   "outputs": [],
   "source": [
    "def loadWavefile(filename,rate=44100,mono=True):\n",
    "    #wavファイル読み込み\n",
    "    if not os.path.exists(filename):\n",
    "        print('wav data is nothing')\n",
    "        print('o・∇・o')\n",
    "    y,sr = librosa.load(filename,sr=rate,mono=mono)\n",
    "    return y,sr\n",
    "\n",
    "def outputWavefile(filepath,y,rate=44100,overwrite=False):\n",
    "    #wavファイル出力\n",
    "    if overwrite:\n",
    "        os.remove(filepath)\n",
    "        librosa.output.write_wav(filepath,y,rate)\n",
    "    elif os.path.exists(filepath):\n",
    "        print('wav data is already there')\n",
    "        print('o・∇・o')\n",
    "    else:\n",
    "        librosa.output.write_wav(filepath,y,rate)"
   ]
  },
  {
   "cell_type": "code",
   "execution_count": 3,
   "metadata": {
    "collapsed": true
   },
   "outputs": [],
   "source": [
    "def preEmphasis(wave,a=0.97):\n",
    "    #Pre-Emphasis filter\n",
    "    emphasized_wave = np.append(wave[0], wave[1:] - a * wave[:-1])\n",
    "    return emphasized_wave"
   ]
  },
  {
   "cell_type": "code",
   "execution_count": 4,
   "metadata": {
    "collapsed": true
   },
   "outputs": [],
   "source": [
    "def hammingWindow(wave,alpha=0.54):\n",
    "    #Hamming window\n",
    "    nmax = len(wave)\n",
    "    n = np.linspace(0,nmax-1,nmax)\n",
    "    wx = alpha-((1-alpha)*np.cos(2.0*np.pi*n/nmax))\n",
    "    hamming_wave = wx * wave\n",
    "    return hamming_wave\n",
    "\n",
    "def hammingWindow_matrix(wave_matrix,alpha=0.54):\n",
    "    #Hamming window for matrix\n",
    "    nmax = len(wave_matrix[0])\n",
    "    n = np.linspace(0,nmax-1,nmax)\n",
    "    wx = alpha-((1-alpha)*np.cos(2.0*np.pi*n/nmax))\n",
    "    hamming_wave_matrix = wave_matrix * wx\n",
    "    return hamming_wave_matrix"
   ]
  },
  {
   "cell_type": "code",
   "execution_count": 5,
   "metadata": {
    "collapsed": true
   },
   "outputs": [],
   "source": [
    "def framing(wave,frame_size=1024,no_voice_cut=False,threshold=0):\n",
    "    #frame distribution device\n",
    "    frame_stride = int(frame_size/2)\n",
    "    wavedata_length = len(wave)\n",
    "    frame_number = int(wavedata_length/frame_stride) - 1\n",
    "    s_list = [frame_stride*n for n in range(frame_number)]\n",
    "    e_list = [frame_stride*n+frame_size for n in range(frame_number)]\n",
    "    \n",
    "    wave_framing = np.empty((frame_number,frame_size))\n",
    "    no_soundless = []\n",
    "    for i,(s,e) in enumerate(zip(s_list,e_list)):\n",
    "        wave_frame = wave[s:e]\n",
    "        wave_framing[i] = wave_frame\n",
    "        if no_voice_cut:\n",
    "            if np.max(np.abs(wave_frame)) > threshold:\n",
    "                no_soundless.append(i)\n",
    "    #無音(微音)部分のカット            \n",
    "    if no_voice_cut:\n",
    "        wave_framing = wave_framing[no_soundless]\n",
    "        \n",
    "    return wave_framing"
   ]
  },
  {
   "cell_type": "code",
   "execution_count": 6,
   "metadata": {
    "collapsed": true
   },
   "outputs": [],
   "source": [
    "def clear_framing(frame,frame_size=1024):\n",
    "    #フレームに分割していたデータの統合\n",
    "    frame_number = len(frame)\n",
    "    frame_stride = int(frame_size/2)\n",
    "    s_list = [frame_stride*n for n in range(frame_number)]\n",
    "    e_list = [frame_stride*n+frame_size for n in range(frame_number)]\n",
    "    no_frame = np.empty(frame_size+(frame_stride*(frame_number-1)))\n",
    "    for i,(s,e) in enumerate(zip(s_list,e_list)):\n",
    "        no_frame[s:e] += frame[i]\n",
    "    return no_frame.astype(np.float32)"
   ]
  },
  {
   "cell_type": "code",
   "execution_count": 7,
   "metadata": {},
   "outputs": [],
   "source": [
    "def hz2mel(Hz):\n",
    "    #Hz to mel\n",
    "    mel = 1127.01048 * np.log(Hz / 700.0 + 1.0)\n",
    "    return mel\n",
    "\n",
    "def mel2hz(mel):\n",
    "    #mel to Hz\n",
    "    Hz = 700.0 * (np.exp(mel / 1127.01048) - 1.0)\n",
    "    return Hz"
   ]
  },
  {
   "cell_type": "code",
   "execution_count": 8,
   "metadata": {
    "collapsed": true
   },
   "outputs": [],
   "source": [
    "def melFilterBank(fs, nfft, numChannels, index_only = False):\n",
    "    #メルフィルタバンクを作成\n",
    "    # ナイキスト周波数（Hz）\n",
    "    fmax = fs / 2\n",
    "    #print(\"Nyquist frequency\",fmax)\n",
    "    # ナイキスト周波数（mel）\n",
    "    melmax = hz2mel(fmax)\n",
    "    #print(\"Nyquist frequency(mel)\",melmax)\n",
    "    # 周波数インデックスの最大数\n",
    "    nmax = int(nfft / 2)\n",
    "    # 周波数解像度（周波数インデックス1あたりのHz幅）\n",
    "    df = fs / nfft\n",
    "    # メル尺度における各フィルタの中心周波数を求める\n",
    "    dmel = melmax / (numChannels + 1)\n",
    "    melcenters = np.arange(1, numChannels + 1) * dmel\n",
    "    # 各フィルタの中心周波数をHzに変換\n",
    "    fcenters = mel2hz(melcenters)\n",
    "    # 各フィルタの中心周波数を周波数インデックスに変換\n",
    "    indexcenter = np.round(fcenters / df)\n",
    "    # 各フィルタの開始位置のインデックス\n",
    "    indexstart = np.hstack(([0], indexcenter[0:numChannels - 1]))\n",
    "\n",
    "    # 各フィルタの終了位置のインデックス\n",
    "    indexstop = np.hstack((indexcenter[1:numChannels], [nmax]))\n",
    "    \n",
    "    indexcenter = np.array(indexcenter,dtype='int32')\n",
    "    indexstart = np.array(indexstart,dtype='int32')\n",
    "    indexstop = np.array(indexstop,dtype='int32')\n",
    "\n",
    "    if index_only:\n",
    "        return melcenters,melmax\n",
    "    \n",
    "    filterbank = np.zeros((numChannels, nmax))\n",
    "    for c in np.arange(0, numChannels):\n",
    "        increment= 1.0 / (indexcenter[c] - indexstart[c])\n",
    "        for i in np.arange(indexstart[c], indexcenter[c]):\n",
    "            filterbank[c, i] = (i - indexstart[c]) * increment\n",
    "        decrement = 1.0 / (indexstop[c] - indexcenter[c])\n",
    "        for i in np.arange(indexcenter[c], indexstop[c]):\n",
    "            filterbank[c, i] = 1.0 - ((i - indexcenter[c]) * decrement)\n",
    "\n",
    "    return filterbank, fcenters"
   ]
  },
  {
   "cell_type": "code",
   "execution_count": 9,
   "metadata": {
    "collapsed": true
   },
   "outputs": [],
   "source": [
    "def calcMFCC(wave,sr,no_voice_cut=True,frame_size=1024,numChannels=20):\n",
    "    #waveデータを分割\n",
    "    wave_frame = framing(wave,no_voice_cut=no_voice_cut,threshold=0.005)\n",
    "    #ハミング窓\n",
    "    wave_hw = hammingWindow_matrix(wave_frame)\n",
    "    del wave_frame\n",
    "    #FFT\n",
    "    wave_fft = np.fft.fft(wave_hw)\n",
    "    del wave_hw\n",
    "    NFFT = int(frame_size)\n",
    "    wave_fft_scale = np.fft.fftfreq(NFFT,d=1.0)[:NFFT//2]\n",
    "    wave_fft_amp = np.abs(wave_fft[:,:NFFT//2])\n",
    "    \n",
    "    #メルフィルタバンク\n",
    "    filterbank, fcenters = melFilterBank(sr, NFFT, numChannels)\n",
    "    mfcc = np.dot(filterbank,wave_fft_amp.T)\n",
    "    mfcc = mfcc.T\n",
    "    #mfcc = np.power(mfcc,0.2)\n",
    "    mfcc = np.log10(mfcc)\n",
    "    \n",
    "    return mfcc,fcenters"
   ]
  },
  {
   "cell_type": "code",
   "execution_count": 10,
   "metadata": {},
   "outputs": [],
   "source": [
    "def makeMFCCFilter(mfcc_factor, sr=44100, NFFT=1024):\n",
    "    numChannels = len(mfcc_factor)\n",
    "    center, melmax = melFilterBank(44100, nfft=NFFT, numChannels=numChannels, index_only=True)\n",
    "    df = int(melmax/(numChannels+1))\n",
    "    mel_factor = np.zeros(int(melmax+2*df))\n",
    "    sigma = int(df/1.6)\n",
    "    for i,center_section in enumerate(center):\n",
    "        line = np.linspace(0,df*4-1,df*4)\n",
    "        gaussian = (1/1.561178)*mfcc_factor[i]*np.exp(-1*((line-df*2)**2)/(2*sigma**2))\n",
    "        mel_factor[df*(i):df*(i+4)] += gaussian\n",
    "    mel_factor = mel_factor[df:]\n",
    "\n",
    "    gaussian_hz = np.empty(NFFT//2)\n",
    "    for i in range(NFFT//2):\n",
    "        hz = 1.0*sr/NFFT*i\n",
    "        mel = int(hz2mel(hz))\n",
    "        gaussian_hz[i] = mel_factor[mel]\n",
    "\n",
    "    gaussian_hz_2 = gaussian_hz[1:]\n",
    "    gaussian_hz = np.hstack((gaussian_hz, np.array([1]), gaussian_hz_2[::-1]))\n",
    "    \n",
    "    return gaussian_hz"
   ]
  },
  {
   "cell_type": "code",
   "execution_count": 149,
   "metadata": {},
   "outputs": [
    {
     "name": "stdout",
     "output_type": "stream",
     "text": [
      "1940400\n",
      "[ 0.  0.  0. ...,  0.  0.  0.]\n"
     ]
    }
   ],
   "source": [
    "#data = np.linspace(0,10000,44100*120)\n",
    "#data = np.cos(data*15)+np.sin(data*22)\n",
    "\n",
    "#data,sr = loadWavefile(\"../data/LearningData/magiarecord/1/1080.wav\")\n",
    "#data,sr = np.loadtxt(\"1080.csv\",delimiter=\",\"),44100\n",
    "\n",
    "data,sr = loadWavefile(\"../data/LearningData/magiarecord/1/3.wav\")\n",
    "print(len(data))\n",
    "print(data)"
   ]
  },
  {
   "cell_type": "code",
   "execution_count": 150,
   "metadata": {},
   "outputs": [],
   "source": [
    "mfcc,fcenters = calcMFCC(data,sr,no_voice_cut=True,numChannels=20)"
   ]
  },
  {
   "cell_type": "code",
   "execution_count": 154,
   "metadata": {},
   "outputs": [],
   "source": [
    "def change_voice(wave,sr,no_voice_cut=False,frame_size=1024,numChannels=20):\n",
    "    #calcMFCCと重複、あとでなんとかする\n",
    "    \n",
    "    #waveデータを分割\n",
    "    wave_frame = framing(wave,no_voice_cut=no_voice_cut,threshold=0.005)\n",
    "    #ハミング窓\n",
    "    wave_hw = hammingWindow_matrix(wave_frame) \n",
    "    del wave_frame\n",
    "    #FFT\n",
    "    wave_fft = np.fft.fft(wave_hw)\n",
    "    del wave_hw\n",
    "    NFFT = frame_size\n",
    "    #wave_fft_scale = np.fft.fftfreq(NFFT,d=1.0)[:NFFT/2]\n",
    "    wave_fft_amp = np.abs(wave_fft[:,:NFFT//2])\n",
    "    \n",
    "    #メルフィルタ\n",
    "    filterbank, fcenters = melFilterBank(sr, NFFT, numChannels)\n",
    "    mfcc = np.dot(filterbank,wave_fft_amp.T)\n",
    "    mfcc = mfcc.T\n",
    "    #mfcc = np.power(mfcc,0.2)\n",
    "    #0があると-infメッセージ出るけど無視して\n",
    "    mfcc = np.log10(mfcc)\n",
    "    \n",
    "    #変声\n",
    "    mfcc_factor = np.zeros(20)\n",
    "    mfcc_factor[8:] = 5\n",
    "    #mfcc_factor = np.array([1,20,1,20,1,20,1,20,1,0,1,20,1,120,1,20,1,20,1,20])\n",
    "    mfccfilter = makeMFCCFilter(mfcc_factor)\n",
    "    wave_filter = wave_fft * mfccfilter\n",
    "    \n",
    "    #IFFT\n",
    "    wave_ifft = np.fft.ifft(wave_filter)\n",
    "    wave_ifft = wave_ifft.real\n",
    "    \n",
    "    wave_after = clear_framing(wave_ifft)\n",
    "    \n",
    "    return wave_after\n",
    "ifft = change_voice(data,sr,no_voice_cut=True,numChannels=20)\n",
    "outputWavefile(\"../data/mocho.wav\",ifft,overwrite=True)"
   ]
  },
  {
   "cell_type": "code",
   "execution_count": 153,
   "metadata": {},
   "outputs": [
    {
     "data": {
      "text/plain": [
       "'path = \"../data/LearningData/magiarecord/1/\"\\nfilelist = os.listdir(path)\\nprint(filelist)'"
      ]
     },
     "execution_count": 153,
     "metadata": {},
     "output_type": "execute_result"
    }
   ],
   "source": [
    "'''path = \"../data/LearningData/magiarecord/1/\"\n",
    "filelist = os.listdir(path)\n",
    "print(filelist)'''"
   ]
  },
  {
   "cell_type": "code",
   "execution_count": null,
   "metadata": {
    "collapsed": true
   },
   "outputs": [],
   "source": []
  }
 ],
 "metadata": {
  "kernelspec": {
   "display_name": "Python 3",
   "language": "python",
   "name": "python3"
  },
  "language_info": {
   "codemirror_mode": {
    "name": "ipython",
    "version": 3
   },
   "file_extension": ".py",
   "mimetype": "text/x-python",
   "name": "python",
   "nbconvert_exporter": "python",
   "pygments_lexer": "ipython3",
   "version": "3.6.3"
  }
 },
 "nbformat": 4,
 "nbformat_minor": 2
}
