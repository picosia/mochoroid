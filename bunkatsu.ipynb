{
 "cells": [
  {
   "cell_type": "code",
   "execution_count": 1,
   "metadata": {
    "collapsed": true
   },
   "outputs": [],
   "source": [
    "# -*- coding: utf-8 -*-\n",
    "\n",
    "import os\n",
    "import csv\n",
    "import numpy as np\n",
    "import matplotlib.pyplot as plt\n",
    "import subprocess\n",
    "import wave\n",
    "import librosa"
   ]
  },
  {
   "cell_type": "code",
   "execution_count": 2,
   "metadata": {
    "collapsed": true
   },
   "outputs": [],
   "source": [
    "datadir = \"../data/\"\n",
    "learningdir = \"LearningData/magiarecord/\"\n",
    "\n",
    "breakpoint_file = \"breakpoint.csv\""
   ]
  },
  {
   "cell_type": "code",
   "execution_count": 3,
   "metadata": {
    "collapsed": true
   },
   "outputs": [],
   "source": [
    "def loadDivideLine(filepath):\n",
    "    print(filepath)\n",
    "    #音声の区切り位置読み込み\n",
    "    #[開始時刻、終了時刻、人物ID]\n",
    "    if not os.path.exists(filepath):\n",
    "        return -1\n",
    "    \n",
    "    divideline = []\n",
    "    with open(filepath, 'r') as f:\n",
    "        reader = csv.reader(f)\n",
    "        for row in reader:\n",
    "            divideline.append(row)\n",
    "    divideline = np.array(divideline,dtype='float64')\n",
    "            \n",
    "    return divideline"
   ]
  },
  {
   "cell_type": "code",
   "execution_count": 4,
   "metadata": {
    "collapsed": true
   },
   "outputs": [],
   "source": [
    "def readWave(filepath):\n",
    "    wf = wave.open(filepath, \"r\")\n",
    "    fs = wf.getframerate()\n",
    "    x = wf.readframes(wf.getnframes())\n",
    "    x = np.frombuffer(x, dtype=\"int16\") / 32768.0  # (-1, 1)に正規化\n",
    "    wf.close()\n",
    "    return x, float(fs)"
   ]
  },
  {
   "cell_type": "code",
   "execution_count": 5,
   "metadata": {
    "collapsed": true
   },
   "outputs": [],
   "source": [
    "def loadWavefile(filename,rate=44100):\n",
    "    y,sr = librosa.load(filename,sr=rate)\n",
    "    return y,sr\n",
    "\n",
    "def outputWavefile(filepath,y,sr=44100):\n",
    "    librosa.output.write_wav(filepath,y,sr)"
   ]
  },
  {
   "cell_type": "code",
   "execution_count": 6,
   "metadata": {},
   "outputs": [],
   "source": [
    "def divideVoiceData(divedefilepath,wavpath):\n",
    "    \n",
    "    #load divide_time data\n",
    "    dividepoint = loadDivideLine(divedefilepath)\n",
    "    if np.min(dividepoint) < 0:\n",
    "        print('divide_time data is nothing')\n",
    "        return -1\n",
    "    divide_sec = 60*dividepoint.T[0]+dividepoint.T[1]\n",
    "    peoplelist = np.array(dividepoint.T[2],dtype='int32')\n",
    "    \n",
    "    diff = divide_sec[1:]-divide_sec[:-1]\n",
    "    if min(diff) < 0:\n",
    "        print('divide_time value is wrong')\n",
    "        return -1\n",
    "    \n",
    "    #make directory\n",
    "    number_of_data = {}\n",
    "    directory_path = {}\n",
    "    for people in set(peoplelist):\n",
    "        people = int(people)\n",
    "        if people == 0:\n",
    "            continue\n",
    "        subprocess.call('mkdir '+datadir+learningdir+str(people))\n",
    "        number_of_data[people] = len(os.listdir(datadir+learningdir+str(people)))\n",
    "        directory_path[people] = datadir+learningdir+str(people)\n",
    "        \n",
    "    #load wav data\n",
    "    print('Loading wav data')\n",
    "    wave, fs = loadWavefile(wavpath)\n",
    "    \n",
    "    last_time = 0.0\n",
    "    for time,people in zip(divide_sec,peoplelist):\n",
    "        if people == 0:\n",
    "            last_time = time\n",
    "            continue\n",
    "            \n",
    "        s = int(last_time * fs)\n",
    "        e = int(time * fs)\n",
    "        split_data_path = directory_path[people]+'/'+str(number_of_data[people])+'.wav'\n",
    "        print(last_time,people,split_data_path)\n",
    "        wave_part = wave[s:e]\n",
    "        outputWavefile(split_data_path,wave_part)\n",
    "            \n",
    "        number_of_data[people] += 1\n",
    "        last_time = time\n",
    "        \n",
    "    return 1"
   ]
  },
  {
   "cell_type": "code",
   "execution_count": 7,
   "metadata": {
    "collapsed": true
   },
   "outputs": [],
   "source": [
    "csvpath = \"../data/LearningData/magiarecord/main/main_1-1.csv\"\n",
    "wavpath = \"../data/LearningData/magiarecord/main/main_1-1.wav\""
   ]
  },
  {
   "cell_type": "code",
   "execution_count": 8,
   "metadata": {},
   "outputs": [
    {
     "name": "stdout",
     "output_type": "stream",
     "text": [
      "../data/LearningData/magiarecord/main/main_1-1.csv\n",
      "Loading wav data\n",
      "3.0 1 ../data/LearningData/magiarecord/1/0.wav\n",
      "53.0 1 ../data/LearningData/magiarecord/1/1.wav\n",
      "103.0 1 ../data/LearningData/magiarecord/1/2.wav\n",
      "140.0 1 ../data/LearningData/magiarecord/1/3.wav\n",
      "154.0 6 ../data/LearningData/magiarecord/6/0.wav\n",
      "156.0 1 ../data/LearningData/magiarecord/1/4.wav\n",
      "168.0 6 ../data/LearningData/magiarecord/6/1.wav\n",
      "178.0 1 ../data/LearningData/magiarecord/1/5.wav\n",
      "180.0 6 ../data/LearningData/magiarecord/6/2.wav\n",
      "184.5 1 ../data/LearningData/magiarecord/1/6.wav\n",
      "189.3 6 ../data/LearningData/magiarecord/6/3.wav\n",
      "198.5 6 ../data/LearningData/magiarecord/6/4.wav\n",
      "201.0 1 ../data/LearningData/magiarecord/1/7.wav\n",
      "207.0 6 ../data/LearningData/magiarecord/6/5.wav\n",
      "212.5 1 ../data/LearningData/magiarecord/1/8.wav\n",
      "219.4 6 ../data/LearningData/magiarecord/6/6.wav\n",
      "226.2 1 ../data/LearningData/magiarecord/1/9.wav\n",
      "229.0 6 ../data/LearningData/magiarecord/6/7.wav\n",
      "238.3 1 ../data/LearningData/magiarecord/1/10.wav\n",
      "240.8 6 ../data/LearningData/magiarecord/6/8.wav\n",
      "243.5 1 ../data/LearningData/magiarecord/1/11.wav\n",
      "251.2 6 ../data/LearningData/magiarecord/6/9.wav\n",
      "254.3 1 ../data/LearningData/magiarecord/1/12.wav\n",
      "261.6 6 ../data/LearningData/magiarecord/6/10.wav\n",
      "263.2 1 ../data/LearningData/magiarecord/1/13.wav\n",
      "269.2 6 ../data/LearningData/magiarecord/6/11.wav\n",
      "271.2 1 ../data/LearningData/magiarecord/1/14.wav\n",
      "277.0 6 ../data/LearningData/magiarecord/6/12.wav\n",
      "280.0 1 ../data/LearningData/magiarecord/1/15.wav\n",
      "283.3 6 ../data/LearningData/magiarecord/6/13.wav\n",
      "286.5 1 ../data/LearningData/magiarecord/1/16.wav\n",
      "288.8 6 ../data/LearningData/magiarecord/6/14.wav\n",
      "295.2 1 ../data/LearningData/magiarecord/1/17.wav\n",
      "298.5 6 ../data/LearningData/magiarecord/6/15.wav\n",
      "300.0 1 ../data/LearningData/magiarecord/1/18.wav\n",
      "305.5 6 ../data/LearningData/magiarecord/6/16.wav\n",
      "309.9 1 ../data/LearningData/magiarecord/1/19.wav\n",
      "312.6 6 ../data/LearningData/magiarecord/6/17.wav\n",
      "320.6 1 ../data/LearningData/magiarecord/1/20.wav\n",
      "338.1 6 ../data/LearningData/magiarecord/6/18.wav\n",
      "345.5 1 ../data/LearningData/magiarecord/1/21.wav\n",
      "349.0 6 ../data/LearningData/magiarecord/6/19.wav\n",
      "368.0 1 ../data/LearningData/magiarecord/1/22.wav\n",
      "406.5 24 ../data/LearningData/magiarecord/24/0.wav\n",
      "408.5 1 ../data/LearningData/magiarecord/1/23.wav\n",
      "416.0 24 ../data/LearningData/magiarecord/24/1.wav\n",
      "418.0 1 ../data/LearningData/magiarecord/1/24.wav\n",
      "453.0 1 ../data/LearningData/magiarecord/1/25.wav\n",
      "461.0 1 ../data/LearningData/magiarecord/1/26.wav\n",
      "506.0 2 ../data/LearningData/magiarecord/2/0.wav\n"
     ]
    },
    {
     "data": {
      "text/plain": [
       "1"
      ]
     },
     "execution_count": 8,
     "metadata": {},
     "output_type": "execute_result"
    }
   ],
   "source": [
    "#divideVoiceData(csvpath,wavpath)"
   ]
  },
  {
   "cell_type": "code",
   "execution_count": null,
   "metadata": {
    "collapsed": true
   },
   "outputs": [],
   "source": []
  }
 ],
 "metadata": {
  "kernelspec": {
   "display_name": "Python 3",
   "language": "python",
   "name": "python3"
  },
  "language_info": {
   "codemirror_mode": {
    "name": "ipython",
    "version": 3
   },
   "file_extension": ".py",
   "mimetype": "text/x-python",
   "name": "python",
   "nbconvert_exporter": "python",
   "pygments_lexer": "ipython3",
   "version": "3.6.3"
  }
 },
 "nbformat": 4,
 "nbformat_minor": 2
}
