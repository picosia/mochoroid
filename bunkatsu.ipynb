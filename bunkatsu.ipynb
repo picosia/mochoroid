{
 "cells": [
  {
   "cell_type": "code",
   "execution_count": 1,
   "metadata": {},
   "outputs": [],
   "source": [
    "# -*- coding: utf-8 -*-\n",
    "\n",
    "import os\n",
    "import csv\n",
    "import numpy as np\n",
    "import matplotlib.pyplot as plt\n",
    "import subprocess\n",
    "import wave"
   ]
  },
  {
   "cell_type": "code",
   "execution_count": 2,
   "metadata": {
    "collapsed": true
   },
   "outputs": [],
   "source": [
    "datadir = \"../data/\"\n",
    "learningdir = \"LearningData/\"\n",
    "\n",
    "breakpoint_file = \"breakpoint.csv\""
   ]
  },
  {
   "cell_type": "code",
   "execution_count": 3,
   "metadata": {
    "collapsed": true
   },
   "outputs": [],
   "source": [
    "def loadDivideLine(filepath):\n",
    "    print(filepath)\n",
    "    #音声の区切り位置読み込み\n",
    "    #[開始時刻、終了時刻、人物ID]\n",
    "    if not os.path.exists(filepath):\n",
    "        print('Not Exists')\n",
    "        return -1\n",
    "    \n",
    "    divideline = []\n",
    "    with open(filepath, 'r') as f:\n",
    "        reader = csv.reader(f)\n",
    "        for row in reader:\n",
    "            divideline.append(row)         \n",
    "    divideline = np.array(divideline,dtype='float64')\n",
    "            \n",
    "    return divideline"
   ]
  },
  {
   "cell_type": "code",
   "execution_count": 21,
   "metadata": {
    "collapsed": true
   },
   "outputs": [],
   "source": [
    "def readWave(filepath):\n",
    "    wf = wave.open(filepath, \"r\")\n",
    "    fs = wf.getframerate()\n",
    "    x = wf.readframes(wf.getnframes())\n",
    "    x = np.frombuffer(x, dtype=\"int16\") / 32768.0  # (-1, 1)に正規化\n",
    "    wf.close()\n",
    "    return x, float(fs)"
   ]
  },
  {
   "cell_type": "code",
   "execution_count": 24,
   "metadata": {
    "collapsed": true
   },
   "outputs": [],
   "source": [
    "# 波形データを保存(波形データ, ビット数, サンプリング周波数, ファイル名)\n",
    "def save_wave(data, bit, fs, filepath):\n",
    "    wf = wave.open(filepath, \"w\")\n",
    "    wf.setnchannels(1)\n",
    "    wf.setsampwidth(bit / 8)\n",
    "    wf.setframerate(fs)\n",
    "    wf.writeframes(data)\n",
    "    wf.close()"
   ]
  },
  {
   "cell_type": "code",
   "execution_count": 47,
   "metadata": {},
   "outputs": [
    {
     "name": "stdout",
     "output_type": "stream",
     "text": [
      "../data/LearningData/breakpoint.csv\n",
      "{0: 1, 1: 0, 2: 0, 8: 0}\n",
      "0 %\n",
      "{0: 2, 1: 0, 2: 0, 8: 0}\n",
      "5143 %\n",
      "{0: 2, 1: 1, 2: 0, 8: 0}\n",
      "7715 %\n",
      "{0: 3, 1: 1, 2: 0, 8: 0}\n",
      "23145 %\n",
      "{0: 3, 1: 2, 2: 0, 8: 0}\n",
      "32145 %\n",
      "{0: 3, 1: 2, 2: 1, 8: 0}\n",
      "37289 %\n",
      "{0: 3, 1: 2, 2: 1, 8: 1}\n",
      "44147 %\n",
      "{0: 3, 1: 2, 2: 2, 8: 1}\n",
      "44147 %\n",
      "{0: 3, 1: 2, 2: 3, 8: 1}\n",
      "44147 %\n",
      "{0: 3, 1: 2, 2: 4, 8: 1}\n",
      "44147 %\n",
      "{0: 3, 1: 2, 2: 5, 8: 1}\n",
      "44147 %\n",
      "{0: 3, 1: 2, 2: 6, 8: 1}\n",
      "44147 %\n",
      "{0: 3, 1: 2, 2: 7, 8: 1}\n",
      "44147 %\n",
      "{0: 3, 1: 2, 2: 8, 8: 1}\n",
      "44147 %\n",
      "{0: 3, 1: 2, 2: 9, 8: 1}\n",
      "44147 %\n",
      "{0: 3, 1: 2, 2: 10, 8: 1}\n",
      "44147 %\n",
      "{0: 3, 1: 2, 2: 11, 8: 1}\n",
      "44147 %\n",
      "{0: 3, 1: 2, 2: 12, 8: 1}\n",
      "44147 %\n",
      "{0: 3, 1: 2, 2: 13, 8: 1}\n",
      "44147 %\n",
      "{0: 3, 1: 2, 2: 14, 8: 1}\n"
     ]
    }
   ],
   "source": [
    "def divideVoiceData(filepath):\n",
    "    dividepoint = loadDivideLine(filepath)\n",
    "    if np.min(dividepoint) < 0:\n",
    "        return -1\n",
    "    peoplelist = set(dividepoint.T[2])\n",
    "    \n",
    "    wave, fs =readWave(\"../data/LearningData/a.wav\")\n",
    "    number_of_data = {}\n",
    "    \n",
    "    for people in peoplelist:\n",
    "        people = int(people)\n",
    "        subprocess.call('mkdir '+datadir+learningdir+str(people))\n",
    "        number_of_data[people] = len(os.listdir(datadir+learningdir+str(people)))\n",
    "    \n",
    "    print number_of_data\n",
    "    \n",
    "    for point in dividepoint:\n",
    "        start_time = point[0]*fs\n",
    "        end_time = point[1]*fs\n",
    "        people = int(point[2])\n",
    "        #wave_short = wave[start_time:end_time]\n",
    "        \n",
    "        number_of_data[people] = number_of_data[people] + 1\n",
    "        print(int(start_time/len(wave)*100)),(\"%\")\n",
    "\n",
    "divideVoiceData(datadir+learningdir+breakpoint_file)"
   ]
  },
  {
   "cell_type": "code",
   "execution_count": null,
   "metadata": {
    "collapsed": true
   },
   "outputs": [],
   "source": []
  }
 ],
 "metadata": {
  "kernelspec": {
   "display_name": "Python 2",
   "language": "python",
   "name": "python2"
  },
  "language_info": {
   "codemirror_mode": {
    "name": "ipython",
    "version": 2
   },
   "file_extension": ".py",
   "mimetype": "text/x-python",
   "name": "python",
   "nbconvert_exporter": "python",
   "pygments_lexer": "ipython2",
   "version": "2.7.13"
  }
 },
 "nbformat": 4,
 "nbformat_minor": 2
}
